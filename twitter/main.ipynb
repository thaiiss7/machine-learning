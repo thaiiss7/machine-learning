{
 "cells": [
  {
   "cell_type": "code",
   "execution_count": 2,
   "id": "eabbd0f2",
   "metadata": {},
   "outputs": [],
   "source": [
    "import pandas as pd\n",
    "import numpy as np\n",
    "import seaborn as sns\n",
    "import matplotlib.pyplot as plt\n",
    "import plotly.express as px"
   ]
  },
  {
   "cell_type": "code",
   "execution_count": 3,
   "id": "a867c5da",
   "metadata": {},
   "outputs": [
    {
     "data": {
      "text/html": [
       "<div>\n",
       "<style scoped>\n",
       "    .dataframe tbody tr th:only-of-type {\n",
       "        vertical-align: middle;\n",
       "    }\n",
       "\n",
       "    .dataframe tbody tr th {\n",
       "        vertical-align: top;\n",
       "    }\n",
       "\n",
       "    .dataframe thead th {\n",
       "        text-align: right;\n",
       "    }\n",
       "</style>\n",
       "<table border=\"1\" class=\"dataframe\">\n",
       "  <thead>\n",
       "    <tr style=\"text-align: right;\">\n",
       "      <th></th>\n",
       "      <th>id</th>\n",
       "      <th>game</th>\n",
       "      <th>sentiment</th>\n",
       "      <th>tweet</th>\n",
       "    </tr>\n",
       "  </thead>\n",
       "  <tbody>\n",
       "    <tr>\n",
       "      <th>0</th>\n",
       "      <td>2401</td>\n",
       "      <td>Borderlands</td>\n",
       "      <td>Positive</td>\n",
       "      <td>im getting on borderlands and i will murder yo...</td>\n",
       "    </tr>\n",
       "    <tr>\n",
       "      <th>1</th>\n",
       "      <td>2401</td>\n",
       "      <td>Borderlands</td>\n",
       "      <td>Positive</td>\n",
       "      <td>I am coming to the borders and I will kill you...</td>\n",
       "    </tr>\n",
       "    <tr>\n",
       "      <th>2</th>\n",
       "      <td>2401</td>\n",
       "      <td>Borderlands</td>\n",
       "      <td>Positive</td>\n",
       "      <td>im getting on borderlands and i will kill you ...</td>\n",
       "    </tr>\n",
       "    <tr>\n",
       "      <th>3</th>\n",
       "      <td>2401</td>\n",
       "      <td>Borderlands</td>\n",
       "      <td>Positive</td>\n",
       "      <td>im coming on borderlands and i will murder you...</td>\n",
       "    </tr>\n",
       "    <tr>\n",
       "      <th>4</th>\n",
       "      <td>2401</td>\n",
       "      <td>Borderlands</td>\n",
       "      <td>Positive</td>\n",
       "      <td>im getting on borderlands 2 and i will murder ...</td>\n",
       "    </tr>\n",
       "    <tr>\n",
       "      <th>...</th>\n",
       "      <td>...</td>\n",
       "      <td>...</td>\n",
       "      <td>...</td>\n",
       "      <td>...</td>\n",
       "    </tr>\n",
       "    <tr>\n",
       "      <th>74677</th>\n",
       "      <td>9200</td>\n",
       "      <td>Nvidia</td>\n",
       "      <td>Positive</td>\n",
       "      <td>Just realized that the Windows partition of my...</td>\n",
       "    </tr>\n",
       "    <tr>\n",
       "      <th>74678</th>\n",
       "      <td>9200</td>\n",
       "      <td>Nvidia</td>\n",
       "      <td>Positive</td>\n",
       "      <td>Just realized that my Mac window partition is ...</td>\n",
       "    </tr>\n",
       "    <tr>\n",
       "      <th>74679</th>\n",
       "      <td>9200</td>\n",
       "      <td>Nvidia</td>\n",
       "      <td>Positive</td>\n",
       "      <td>Just realized the windows partition of my Mac ...</td>\n",
       "    </tr>\n",
       "    <tr>\n",
       "      <th>74680</th>\n",
       "      <td>9200</td>\n",
       "      <td>Nvidia</td>\n",
       "      <td>Positive</td>\n",
       "      <td>Just realized between the windows partition of...</td>\n",
       "    </tr>\n",
       "    <tr>\n",
       "      <th>74681</th>\n",
       "      <td>9200</td>\n",
       "      <td>Nvidia</td>\n",
       "      <td>Positive</td>\n",
       "      <td>Just like the windows partition of my Mac is l...</td>\n",
       "    </tr>\n",
       "  </tbody>\n",
       "</table>\n",
       "<p>74682 rows × 4 columns</p>\n",
       "</div>"
      ],
      "text/plain": [
       "         id         game sentiment  \\\n",
       "0      2401  Borderlands  Positive   \n",
       "1      2401  Borderlands  Positive   \n",
       "2      2401  Borderlands  Positive   \n",
       "3      2401  Borderlands  Positive   \n",
       "4      2401  Borderlands  Positive   \n",
       "...     ...          ...       ...   \n",
       "74677  9200       Nvidia  Positive   \n",
       "74678  9200       Nvidia  Positive   \n",
       "74679  9200       Nvidia  Positive   \n",
       "74680  9200       Nvidia  Positive   \n",
       "74681  9200       Nvidia  Positive   \n",
       "\n",
       "                                                   tweet  \n",
       "0      im getting on borderlands and i will murder yo...  \n",
       "1      I am coming to the borders and I will kill you...  \n",
       "2      im getting on borderlands and i will kill you ...  \n",
       "3      im coming on borderlands and i will murder you...  \n",
       "4      im getting on borderlands 2 and i will murder ...  \n",
       "...                                                  ...  \n",
       "74677  Just realized that the Windows partition of my...  \n",
       "74678  Just realized that my Mac window partition is ...  \n",
       "74679  Just realized the windows partition of my Mac ...  \n",
       "74680  Just realized between the windows partition of...  \n",
       "74681  Just like the windows partition of my Mac is l...  \n",
       "\n",
       "[74682 rows x 4 columns]"
      ]
     },
     "execution_count": 3,
     "metadata": {},
     "output_type": "execute_result"
    }
   ],
   "source": [
    "base_twitter = pd.read_csv('twitter.csv')\n",
    "base_twitter"
   ]
  },
  {
   "cell_type": "code",
   "execution_count": 6,
   "id": "4e5620f0",
   "metadata": {},
   "outputs": [
    {
     "data": {
      "text/plain": [
       "id           0\n",
       "game         0\n",
       "sentiment    0\n",
       "tweet        0\n",
       "dtype: int64"
      ]
     },
     "execution_count": 6,
     "metadata": {},
     "output_type": "execute_result"
    }
   ],
   "source": [
    "base_twitter.isnull().sum()"
   ]
  },
  {
   "cell_type": "code",
   "execution_count": 5,
   "id": "3a8dcd70",
   "metadata": {},
   "outputs": [],
   "source": [
    "base_twitter = base_twitter.dropna()"
   ]
  },
  {
   "cell_type": "code",
   "execution_count": 7,
   "id": "9172c1ba",
   "metadata": {},
   "outputs": [
    {
     "data": {
      "text/plain": [
       "(array(['Irrelevant', 'Negative', 'Neutral', 'Positive'], dtype=object),\n",
       " array([12875, 22358, 18108, 20655]))"
      ]
     },
     "execution_count": 7,
     "metadata": {},
     "output_type": "execute_result"
    }
   ],
   "source": [
    "np.unique(base_twitter['sentiment'], return_counts=True)"
   ]
  },
  {
   "cell_type": "code",
   "execution_count": 8,
   "id": "b7cef88e",
   "metadata": {},
   "outputs": [
    {
     "data": {
      "text/plain": [
       "<Axes: xlabel='sentiment', ylabel='count'>"
      ]
     },
     "execution_count": 8,
     "metadata": {},
     "output_type": "execute_result"
    },
    {
     "data": {
      "image/png": "[encoded data removed]",
      "text/plain": [
       "<Figure size 640x480 with 1 Axes>"
      ]
     },
     "metadata": {},
     "output_type": "display_data"
    }
   ],
   "source": [
    "sns.countplot(x = base_twitter['sentiment'])"
   ]
  },
  {
   "cell_type": "code",
   "execution_count": 10,
   "id": "07da2b52",
   "metadata": {},
   "outputs": [
    {
     "data": {
      "application/vnd.plotly.v1+json": {
       "config": {
        "plotlyServerURL": "https://plot.ly"
       },
       "data": [
        {
         "branchvalues": "total",
         "domain": {
          "x": [
           0,
           1
          ],
          "y": [
           0,
           1
          ]
         },
         "hovertemplate": "labels=%{label}<br>count=%{value}<br>parent=%{parent}<br>id=%{id}<extra></extra>",
         "ids": [
          "Positive/Borderlands",
          "Neutral/Borderlands",
          "Negative/Borderlands",
          "Irrelevant/Borderlands",
          "Negative/CallOfDutyBlackopsColdWar",
          "Irrelevant/CallOfDutyBlackopsColdWar",
          "Positive/CallOfDutyBlackopsColdWar",
          "Neutral/CallOfDutyBlackopsColdWar",
          "Negative/Amazon",
          "Neutral/Amazon",
          "Irrelevant/Amazon",
          "Positive/Amazon",
          "Positive/Overwatch",
          "Irrelevant/Overwatch",
          "Neutral/Overwatch",
          "Negative/Overwatch",
          "Irrelevant/Xbox(Xseries)",
          "Positive/Xbox(Xseries)",
          "Negative/Xbox(Xseries)",
          "Neutral/Xbox(Xseries)",
          "Negative/NBA2K",
          "Positive/NBA2K",
          "Neutral/NBA2K",
          "Irrelevant/NBA2K",
          "Neutral/Dota2",
          "Positive/Dota2",
          "Irrelevant/Dota2",
          "Negative/Dota2",
          "Neutral/PlayStation5(PS5)",
          "Positive/PlayStation5(PS5)",
          "Negative/PlayStation5(PS5)",
          "Irrelevant/PlayStation5(PS5)",
          "Irrelevant/WorldOfCraft",
          "Positive/WorldOfCraft",
          "Negative/WorldOfCraft",
          "Neutral/WorldOfCraft",
          "Positive/CS-GO",
          "Irrelevant/CS-GO",
          "Negative/CS-GO",
          "Neutral/CS-GO",
          "Neutral/Google",
          "Irrelevant/Google",
          "Negative/Google",
          "Positive/Google",
          "Positive/AssassinsCreed",
          "Negative/AssassinsCreed",
          "Neutral/AssassinsCreed",
          "Irrelevant/AssassinsCreed",
          "Positive/ApexLegends",
          "Neutral/ApexLegends",
          "Negative/ApexLegends",
          "Irrelevant/ApexLegends",
          "Neutral/LeagueOfLegends",
          "Negative/LeagueOfLegends",
          "Positive/LeagueOfLegends",
          "Irrelevant/LeagueOfLegends",
          "Neutral/Fortnite",
          "Negative/Fortnite",
          "Irrelevant/Fortnite",
          "Positive/Fortnite",
          "Irrelevant/Microsoft",
          "Neutral/Microsoft",
          "Negative/Microsoft",
          "Positive/Microsoft",
          "Positive/Hearthstone",
          "Neutral/Hearthstone",
          "Irrelevant/Hearthstone",
          "Negative/Hearthstone",
          "Positive/Battlefield",
          "Irrelevant/Battlefield",
          "Negative/Battlefield",
          "Neutral/Battlefield",
          "Negative/PlayerUnknownsBattlegrounds(PUBG)",
          "Irrelevant/PlayerUnknownsBattlegrounds(PUBG)",
          "Positive/PlayerUnknownsBattlegrounds(PUBG)",
          "Neutral/PlayerUnknownsBattlegrounds(PUBG)",
          "Neutral/Verizon",
          "Negative/Verizon",
          "Irrelevant/Verizon",
          "Positive/Verizon",
          "Negative/HomeDepot",
          "Irrelevant/HomeDepot",
          "Positive/HomeDepot",
          "Neutral/HomeDepot",
          "Positive/FIFA",
          "Irrelevant/FIFA",
          "Negative/FIFA",
          "Neutral/FIFA",
          "Positive/RedDeadRedemption(RDR)",
          "Neutral/RedDeadRedemption(RDR)",
          "Irrelevant/RedDeadRedemption(RDR)",
          "Negative/RedDeadRedemption(RDR)",
          "Negative/CallOfDuty",
          "Neutral/CallOfDuty",
          "Positive/CallOfDuty",
          "Irrelevant/CallOfDuty",
          "Negative/TomClancysRainbowSix",
          "Positive/TomClancysRainbowSix",
          "Irrelevant/TomClancysRainbowSix",
          "Neutral/TomClancysRainbowSix",
          "Negative/Facebook",
          "Irrelevant/Facebook",
          "Neutral/Facebook",
          "Positive/Facebook",
          "Irrelevant/GrandTheftAuto(GTA)",
          "Negative/GrandTheftAuto(GTA)",
          "Positive/GrandTheftAuto(GTA)",
          "Neutral/GrandTheftAuto(GTA)",
          "Negative/MaddenNFL",
          "Neutral/MaddenNFL",
          "Positive/MaddenNFL",
          "Irrelevant/MaddenNFL",
          "Neutral/johnson&johnson",
          "Negative/johnson&johnson",
          "Positive/johnson&johnson",
          "Irrelevant/johnson&johnson",
          "Neutral/Cyberpunk2077",
          "Irrelevant/Cyberpunk2077",
          "Positive/Cyberpunk2077",
          "Negative/Cyberpunk2077",
          "Neutral/TomClancysGhostRecon",
          "Negative/TomClancysGhostRecon",
          "Positive/TomClancysGhostRecon",
          "Irrelevant/TomClancysGhostRecon",
          "Neutral/Nvidia",
          "Positive/Nvidia",
          "Negative/Nvidia",
          "Irrelevant/Nvidia",
          "Positive",
          "Neutral",
          "Negative",
          "Irrelevant"
         ],
         "labels": [
          "Borderlands",
          "Borderlands",
          "Borderlands",
          "Borderlands",
          "CallOfDutyBlackopsColdWar",
          "CallOfDutyBlackopsColdWar",
          "CallOfDutyBlackopsColdWar",
          "CallOfDutyBlackopsColdWar",
          "Amazon",
          "Amazon",
          "Amazon",
          "Amazon",
          "Overwatch",
          "Overwatch",
          "Overwatch",
          "Overwatch",
          "Xbox(Xseries)",
          "Xbox(Xseries)",
          "Xbox(Xseries)",
          "Xbox(Xseries)",
          "NBA2K",
          "NBA2K",
          "NBA2K",
          "NBA2K",
          "Dota2",
          "Dota2",
          "Dota2",
          "Dota2",
          "PlayStation5(PS5)",
          "PlayStation5(PS5)",
          "PlayStation5(PS5)",
          "PlayStation5(PS5)",
          "WorldOfCraft",
          "WorldOfCraft",
          "WorldOfCraft",
          "WorldOfCraft",
          "CS-GO",
          "CS-GO",
          "CS-GO",
          "CS-GO",
          "Google",
          "Google",
          "Google",
          "Google",
          "AssassinsCreed",
          "AssassinsCreed",
          "AssassinsCreed",
          "AssassinsCreed",
          "ApexLegends",
          "ApexLegends",
          "ApexLegends",
          "ApexLegends",
          "LeagueOfLegends",
          "LeagueOfLegends",
          "LeagueOfLegends",
          "LeagueOfLegends",
          "Fortnite",
          "Fortnite",
          "Fortnite",
          "Fortnite",
          "Microsoft",
          "Microsoft",
          "Microsoft",
          "Microsoft",
          "Hearthstone",
          "Hearthstone",
          "Hearthstone",
          "Hearthstone",
          "Battlefield",
          "Battlefield",
          "Battlefield",
          "Battlefield",
          "PlayerUnknownsBattlegrounds(PUBG)",
          "PlayerUnknownsBattlegrounds(PUBG)",
          "PlayerUnknownsBattlegrounds(PUBG)",
          "PlayerUnknownsBattlegrounds(PUBG)",
          "Verizon",
          "Verizon",
          "Verizon",
          "Verizon",
          "HomeDepot",
          "HomeDepot",
          "HomeDepot",
          "HomeDepot",
          "FIFA",
          "FIFA",
          "FIFA",
          "FIFA",
          "RedDeadRedemption(RDR)",
          "RedDeadRedemption(RDR)",
          "RedDeadRedemption(RDR)",
          "RedDeadRedemption(RDR)",
          "CallOfDuty",
          "CallOfDuty",
          "CallOfDuty",
          "CallOfDuty",
          "TomClancysRainbowSix",
          "TomClancysRainbowSix",
          "TomClancysRainbowSix",
          "TomClancysRainbowSix",
          "Facebook",
          "Facebook",
          "Facebook",
          "Facebook",
          "GrandTheftAuto(GTA)",
          "GrandTheftAuto(GTA)",
          "GrandTheftAuto(GTA)",
          "GrandTheftAuto(GTA)",
          "MaddenNFL",
          "MaddenNFL",
          "MaddenNFL",
          "MaddenNFL",
          "johnson&johnson",
          "johnson&johnson",
          "johnson&johnson",
          "johnson&johnson",
          "Cyberpunk2077",
          "Cyberpunk2077",
          "Cyberpunk2077",
          "Cyberpunk2077",
          "TomClancysGhostRecon",
          "TomClancysGhostRecon",
          "TomClancysGhostRecon",
          "TomClancysGhostRecon",
          "Nvidia",
          "Nvidia",
          "Nvidia",
          "Nvidia",
          "Positive",
          "Neutral",
          "Negative",
          "Irrelevant"
         ],
         "name": "",
         "parents": [
          "Positive",
          "Neutral",
          "Negative",
          "Irrelevant",
          "Negative",
          "Irrelevant",
          "Positive",
          "Neutral",
          "Negative",
          "Neutral",
          "Irrelevant",
          "Positive",
          "Positive",
          "Irrelevant",
          "Neutral",
          "Negative",
          "Irrelevant",
          "Positive",
          "Negative",
          "Neutral",
          "Negative",
          "Positive",
          "Neutral",
          "Irrelevant",
          "Neutral",
          "Positive",
          "Irrelevant",
          "Negative",
          "Neutral",
          "Positive",
          "Negative",
          "Irrelevant",
          "Irrelevant",
          "Positive",
          "Negative",
          "Neutral",
          "Positive",
          "Irrelevant",
          "Negative",
          "Neutral",
          "Neutral",
          "Irrelevant",
          "Negative",
          "Positive",
          "Positive",
          "Negative",
          "Neutral",
          "Irrelevant",
          "Positive",
          "Neutral",
          "Negative",
          "Irrelevant",
          "Neutral",
          "Negative",
          "Positive",
          "Irrelevant",
          "Neutral",
          "Negative",
          "Irrelevant",
          "Positive",
          "Irrelevant",
          "Neutral",
          "Negative",
          "Positive",
          "Positive",
          "Neutral",
          "Irrelevant",
          "Negative",
          "Positive",
          "Irrelevant",
          "Negative",
          "Neutral",
          "Negative",
          "Irrelevant",
          "Positive",
          "Neutral",
          "Neutral",
          "Negative",
          "Irrelevant",
          "Positive",
          "Negative",
          "Irrelevant",
          "Positive",
          "Neutral",
          "Positive",
          "Irrelevant",
          "Negative",
          "Neutral",
          "Positive",
          "Neutral",
          "Irrelevant",
          "Negative",
          "Negative",
          "Neutral",
          "Positive",
          "Irrelevant",
          "Negative",
          "Positive",
          "Irrelevant",
          "Neutral",
          "Negative",
          "Irrelevant",
          "Neutral",
          "Positive",
          "Irrelevant",
          "Negative",
          "Positive",
          "Neutral",
          "Negative",
          "Neutral",
          "Positive",
          "Irrelevant",
          "Neutral",
          "Negative",
          "Positive",
          "Irrelevant",
          "Neutral",
          "Irrelevant",
          "Positive",
          "Negative",
          "Neutral",
          "Negative",
          "Positive",
          "Irrelevant",
          "Neutral",
          "Positive",
          "Negative",
          "Irrelevant",
          "",
          "",
          "",
          ""
         ],
         "type": "treemap",
         "values": {
          "bdata": "+QNVAqoB8AA2AjkCWANgAT8CtwS6ADQB1gKbAigBcwLKAhEDdQGbAb0FqAEOAbQATAJDAqkB/wL7AagDxQGLAdgA4QJUASgE+AJ4AlgBJAIoAwMCTwJoAZ8FdwGcAAgBegKoA08CwAAyA3gCZwI4AaIAuQJFAykCqgA5A/wCWgJBA7oC5AAPAkoCkwPQAV8BpgJ/A44BBwE1AkQEtAAQAnwDJQEEA08B7wEuApEEZgCfAycD0gAxAXMDdwG+AaACWwQBAmAAgALMAq4CEgOuAPoCUQJtAj0BngbFAIwBWgD1A00DDQHFAM4B0QG2A4EBFQN+A2YCGABfAyIDBAJaAK9QvEZWV0sy",
          "dtype": "i2"
         }
        }
       ],
       "layout": {
        "legend": {
         "tracegroupgap": 0
        },
        "margin": {
         "t": 60
        },
        "template": {
         "data": {
          "bar": [
           {
            "error_x": {
             "color": "#2a3f5f"
            },
            "error_y": {
             "color": "#2a3f5f"
            },
            "marker": {
             "line": {
              "color": "#E5ECF6",
              "width": 0.5
             },
             "pattern": {
              "fillmode": "overlay",
              "size": 10,
              "solidity": 0.2
             }
            },
            "type": "bar"
           }
          ],
          "barpolar": [
           {
            "marker": {
             "line": {
              "color": "#E5ECF6",
              "width": 0.5
             },
             "pattern": {
              "fillmode": "overlay",
              "size": 10,
              "solidity": 0.2
             }
            },
            "type": "barpolar"
           }
          ],
          "carpet": [
           {
            "aaxis": {
             "endlinecolor": "#2a3f5f",
             "gridcolor": "white",
             "linecolor": "white",
             "minorgridcolor": "white",
             "startlinecolor": "#2a3f5f"
            },
            "baxis": {
             "endlinecolor": "#2a3f5f",
             "gridcolor": "white",
             "linecolor": "white",
             "minorgridcolor": "white",
             "startlinecolor": "#2a3f5f"
            },
            "type": "carpet"
           }
          ],
          "choropleth": [
           {
            "colorbar": {
             "outlinewidth": 0,
             "ticks": ""
            },
            "type": "choropleth"
           }
          ],
          "contour": [
           {
            "colorbar": {
             "outlinewidth": 0,
             "ticks": ""
            },
            "colorscale": [
             [
              0,
              "#0d0887"
             ],
             [
              0.1111111111111111,
              "#46039f"
             ],
             [
              0.2222222222222222,
              "#7201a8"
             ],
             [
              0.3333333333333333,
              "#9c179e"
             ],
             [
              0.4444444444444444,
              "#bd3786"
             ],
             [
              0.5555555555555556,
              "#d8576b"
             ],
             [
              0.6666666666666666,
              "#ed7953"
             ],
             [
              0.7777777777777778,
              "#fb9f3a"
             ],
             [
              0.8888888888888888,
              "#fdca26"
             ],
             [
              1,
              "#f0f921"
             ]
            ],
            "type": "contour"
           }
          ],
          "contourcarpet": [
           {
            "colorbar": {
             "outlinewidth": 0,
             "ticks": ""
            },
            "type": "contourcarpet"
           }
          ],
          "heatmap": [
           {
            "colorbar": {
             "outlinewidth": 0,
             "ticks": ""
            },
            "colorscale": [
             [
              0,
              "#0d0887"
             ],
             [
              0.1111111111111111,
              "#46039f"
             ],
             [
              0.2222222222222222,
              "#7201a8"
             ],
             [
              0.3333333333333333,
              "#9c179e"
             ],
             [
              0.4444444444444444,
              "#bd3786"
             ],
             [
              0.5555555555555556,
              "#d8576b"
             ],
             [
              0.6666666666666666,
              "#ed7953"
             ],
             [
              0.7777777777777778,
              "#fb9f3a"
             ],
             [
              0.8888888888888888,
              "#fdca26"
             ],
             [
              1,
              "#f0f921"
             ]
            ],
            "type": "heatmap"
           }
          ],
          "histogram": [
           {
            "marker": {
             "pattern": {
              "fillmode": "overlay",
              "size": 10,
              "solidity": 0.2
             }
            },
            "type": "histogram"
           }
          ],
          "histogram2d": [
           {
            "colorbar": {
             "outlinewidth": 0,
             "ticks": ""
            },
            "colorscale": [
             [
              0,
              "#0d0887"
             ],
             [
              0.1111111111111111,
              "#46039f"
             ],
             [
              0.2222222222222222,
              "#7201a8"
             ],
             [
              0.3333333333333333,
              "#9c179e"
             ],
             [
              0.4444444444444444,
              "#bd3786"
             ],
             [
              0.5555555555555556,
              "#d8576b"
             ],
             [
              0.6666666666666666,
              "#ed7953"
             ],
             [
              0.7777777777777778,
              "#fb9f3a"
             ],
             [
              0.8888888888888888,
              "#fdca26"
             ],
             [
              1,
              "#f0f921"
             ]
            ],
            "type": "histogram2d"
           }
          ],
          "histogram2dcontour": [
           {
            "colorbar": {
             "outlinewidth": 0,
             "ticks": ""
            },
            "colorscale": [
             [
              0,
              "#0d0887"
             ],
             [
              0.1111111111111111,
              "#46039f"
             ],
             [
              0.2222222222222222,
              "#7201a8"
             ],
             [
              0.3333333333333333,
              "#9c179e"
             ],
             [
              0.4444444444444444,
              "#bd3786"
             ],
             [
              0.5555555555555556,
              "#d8576b"
             ],
             [
              0.6666666666666666,
              "#ed7953"
             ],
             [
              0.7777777777777778,
              "#fb9f3a"
             ],
             [
              0.8888888888888888,
              "#fdca26"
             ],
             [
              1,
              "#f0f921"
             ]
            ],
            "type": "histogram2dcontour"
           }
          ],
          "mesh3d": [
           {
            "colorbar": {
             "outlinewidth": 0,
             "ticks": ""
            },
            "type": "mesh3d"
           }
          ],
          "parcoords": [
           {
            "line": {
             "colorbar": {
              "outlinewidth": 0,
              "ticks": ""
             }
            },
            "type": "parcoords"
           }
          ],
          "pie": [
           {
            "automargin": true,
            "type": "pie"
           }
          ],
          "scatter": [
           {
            "fillpattern": {
             "fillmode": "overlay",
             "size": 10,
             "solidity": 0.2
            },
            "type": "scatter"
           }
          ],
          "scatter3d": [
           {
            "line": {
             "colorbar": {
              "outlinewidth": 0,
              "ticks": ""
             }
            },
            "marker": {
             "colorbar": {
              "outlinewidth": 0,
              "ticks": ""
             }
            },
            "type": "scatter3d"
           }
          ],
          "scattercarpet": [
           {
            "marker": {
             "colorbar": {
              "outlinewidth": 0,
              "ticks": ""
             }
            },
            "type": "scattercarpet"
           }
          ],
          "scattergeo": [
           {
            "marker": {
             "colorbar": {
              "outlinewidth": 0,
              "ticks": ""
             }
            },
            "type": "scattergeo"
           }
          ],
          "scattergl": [
           {
            "marker": {
             "colorbar": {
              "outlinewidth": 0,
              "ticks": ""
             }
            },
            "type": "scattergl"
           }
          ],
          "scattermap": [
           {
            "marker": {
             "colorbar": {
              "outlinewidth": 0,
              "ticks": ""
             }
            },
            "type": "scattermap"
           }
          ],
          "scattermapbox": [
           {
            "marker": {
             "colorbar": {
              "outlinewidth": 0,
              "ticks": ""
             }
            },
            "type": "scattermapbox"
           }
          ],
          "scatterpolar": [
           {
            "marker": {
             "colorbar": {
              "outlinewidth": 0,
              "ticks": ""
             }
            },
            "type": "scatterpolar"
           }
          ],
          "scatterpolargl": [
           {
            "marker": {
             "colorbar": {
              "outlinewidth": 0,
              "ticks": ""
             }
            },
            "type": "scatterpolargl"
           }
          ],
          "scatterternary": [
           {
            "marker": {
             "colorbar": {
              "outlinewidth": 0,
              "ticks": ""
             }
            },
            "type": "scatterternary"
           }
          ],
          "surface": [
           {
            "colorbar": {
             "outlinewidth": 0,
             "ticks": ""
            },
            "colorscale": [
             [
              0,
              "#0d0887"
             ],
             [
              0.1111111111111111,
              "#46039f"
             ],
             [
              0.2222222222222222,
              "#7201a8"
             ],
             [
              0.3333333333333333,
              "#9c179e"
             ],
             [
              0.4444444444444444,
              "#bd3786"
             ],
             [
              0.5555555555555556,
              "#d8576b"
             ],
             [
              0.6666666666666666,
              "#ed7953"
             ],
             [
              0.7777777777777778,
              "#fb9f3a"
             ],
             [
              0.8888888888888888,
              "#fdca26"
             ],
             [
              1,
              "#f0f921"
             ]
            ],
            "type": "surface"
           }
          ],
          "table": [
           {
            "cells": {
             "fill": {
              "color": "#EBF0F8"
             },
             "line": {
              "color": "white"
             }
            },
            "header": {
             "fill": {
              "color": "#C8D4E3"
             },
             "line": {
              "color": "white"
             }
            },
            "type": "table"
           }
          ]
         },
         "layout": {
          "annotationdefaults": {
           "arrowcolor": "#2a3f5f",
           "arrowhead": 0,
           "arrowwidth": 1
          },
          "autotypenumbers": "strict",
          "coloraxis": {
           "colorbar": {
            "outlinewidth": 0,
            "ticks": ""
           }
          },
          "colorscale": {
           "diverging": [
            [
             0,
             "#8e0152"
            ],
            [
             0.1,
             "#c51b7d"
            ],
            [
             0.2,
             "#de77ae"
            ],
            [
             0.3,
             "#f1b6da"
            ],
            [
             0.4,
             "#fde0ef"
            ],
            [
             0.5,
             "#f7f7f7"
            ],
            [
             0.6,
             "#e6f5d0"
            ],
            [
             0.7,
             "#b8e186"
            ],
            [
             0.8,
             "#7fbc41"
            ],
            [
             0.9,
             "#4d9221"
            ],
            [
             1,
             "#276419"
            ]
           ],
           "sequential": [
            [
             0,
             "#0d0887"
            ],
            [
             0.1111111111111111,
             "#46039f"
            ],
            [
             0.2222222222222222,
             "#7201a8"
            ],
            [
             0.3333333333333333,
             "#9c179e"
            ],
            [
             0.4444444444444444,
             "#bd3786"
            ],
            [
             0.5555555555555556,
             "#d8576b"
            ],
            [
             0.6666666666666666,
             "#ed7953"
            ],
            [
             0.7777777777777778,
             "#fb9f3a"
            ],
            [
             0.8888888888888888,
             "#fdca26"
            ],
            [
             1,
             "#f0f921"
            ]
           ],
           "sequentialminus": [
            [
             0,
             "#0d0887"
            ],
            [
             0.1111111111111111,
             "#46039f"
            ],
            [
             0.2222222222222222,
             "#7201a8"
            ],
            [
             0.3333333333333333,
             "#9c179e"
            ],
            [
             0.4444444444444444,
             "#bd3786"
            ],
            [
             0.5555555555555556,
             "#d8576b"
            ],
            [
             0.6666666666666666,
             "#ed7953"
            ],
            [
             0.7777777777777778,
             "#fb9f3a"
            ],
            [
             0.8888888888888888,
             "#fdca26"
            ],
            [
             1,
             "#f0f921"
            ]
           ]
          },
          "colorway": [
           "#636efa",
           "#EF553B",
           "#00cc96",
           "#ab63fa",
           "#FFA15A",
           "#19d3f3",
           "#FF6692",
           "#B6E880",
           "#FF97FF",
           "#FECB52"
          ],
          "font": {
           "color": "#2a3f5f"
          },
          "geo": {
           "bgcolor": "white",
           "lakecolor": "white",
           "landcolor": "#E5ECF6",
           "showlakes": true,
           "showland": true,
           "subunitcolor": "white"
          },
          "hoverlabel": {
           "align": "left"
          },
          "hovermode": "closest",
          "mapbox": {
           "style": "light"
          },
          "paper_bgcolor": "white",
          "plot_bgcolor": "#E5ECF6",
          "polar": {
           "angularaxis": {
            "gridcolor": "white",
            "linecolor": "white",
            "ticks": ""
           },
           "bgcolor": "#E5ECF6",
           "radialaxis": {
            "gridcolor": "white",
            "linecolor": "white",
            "ticks": ""
           }
          },
          "scene": {
           "xaxis": {
            "backgroundcolor": "#E5ECF6",
            "gridcolor": "white",
            "gridwidth": 2,
            "linecolor": "white",
            "showbackground": true,
            "ticks": "",
            "zerolinecolor": "white"
           },
           "yaxis": {
            "backgroundcolor": "#E5ECF6",
            "gridcolor": "white",
            "gridwidth": 2,
            "linecolor": "white",
            "showbackground": true,
            "ticks": "",
            "zerolinecolor": "white"
           },
           "zaxis": {
            "backgroundcolor": "#E5ECF6",
            "gridcolor": "white",
            "gridwidth": 2,
            "linecolor": "white",
            "showbackground": true,
            "ticks": "",
            "zerolinecolor": "white"
           }
          },
          "shapedefaults": {
           "line": {
            "color": "#2a3f5f"
           }
          },
          "ternary": {
           "aaxis": {
            "gridcolor": "white",
            "linecolor": "white",
            "ticks": ""
           },
           "baxis": {
            "gridcolor": "white",
            "linecolor": "white",
            "ticks": ""
           },
           "bgcolor": "#E5ECF6",
           "caxis": {
            "gridcolor": "white",
            "linecolor": "white",
            "ticks": ""
           }
          },
          "title": {
           "x": 0.05
          },
          "xaxis": {
           "automargin": true,
           "gridcolor": "white",
           "linecolor": "white",
           "ticks": "",
           "title": {
            "standoff": 15
           },
           "zerolinecolor": "white",
           "zerolinewidth": 2
          },
          "yaxis": {
           "automargin": true,
           "gridcolor": "white",
           "linecolor": "white",
           "ticks": "",
           "title": {
            "standoff": 15
           },
           "zerolinecolor": "white",
           "zerolinewidth": 2
          }
         }
        }
       }
      }
     },
     "metadata": {},
     "output_type": "display_data"
    }
   ],
   "source": [
    "grafico = px.treemap(base_twitter, path=['sentiment', 'game'])\n",
    "grafico.show()"
   ]
  },
  {
   "cell_type": "markdown",
   "id": "cb7ce1ec",
   "metadata": {},
   "source": [
    "#Label Encoder"
   ]
  },
  {
   "cell_type": "code",
   "execution_count": 16,
   "id": "95427c74",
   "metadata": {},
   "outputs": [
    {
     "data": {
      "text/plain": [
       "Index(['id', 'game', 'sentiment', 'tweet'], dtype='object')"
      ]
     },
     "execution_count": 16,
     "metadata": {},
     "output_type": "execute_result"
    }
   ],
   "source": [
    "base_twitter.columns"
   ]
  },
  {
   "cell_type": "code",
   "execution_count": 17,
   "id": "71edc1f6",
   "metadata": {},
   "outputs": [],
   "source": [
    "x_twitter = base_twitter.iloc[:, [1,3]].values\n",
    "y_twitter = base_twitter.iloc[:, 2].values"
   ]
  },
  {
   "cell_type": "code",
   "execution_count": 22,
   "id": "54f298d0",
   "metadata": {},
   "outputs": [],
   "source": [
    "from sklearn.preprocessing import LabelEncoder\n",
    "label_encoder_game = LabelEncoder()\n",
    "label_encoder_tweet = LabelEncoder()"
   ]
  },
  {
   "cell_type": "code",
   "execution_count": 24,
   "id": "c60b3151",
   "metadata": {},
   "outputs": [],
   "source": [
    "x_twitter[:, 0] = label_encoder_game.fit_transform(x_twitter[:, 0])\n",
    "x_twitter[:, 1] = label_encoder_tweet.fit_transform(x_twitter[:, 1])"
   ]
  },
  {
   "cell_type": "code",
   "execution_count": 32,
   "id": "d7147e4a",
   "metadata": {},
   "outputs": [
    {
     "data": {
      "text/plain": [
       "array([[4, 64619],\n",
       "       [4, 27233],\n",
       "       [4, 64618],\n",
       "       ...,\n",
       "       [21, 36810],\n",
       "       [21, 36803],\n",
       "       [21, 36735]], shape=(73996, 2), dtype=object)"
      ]
     },
     "execution_count": 32,
     "metadata": {},
     "output_type": "execute_result"
    }
   ],
   "source": [
    "x_twitter"
   ]
  },
  {
   "cell_type": "code",
   "execution_count": 35,
   "id": "72a4f557",
   "metadata": {},
   "outputs": [
    {
     "data": {
      "text/plain": [
       "array([0, 1, 2, 3])"
      ]
     },
     "execution_count": 35,
     "metadata": {},
     "output_type": "execute_result"
    }
   ],
   "source": [
    "np.unique(y_twitter) #['Irrelevant', 'Negative', 'Neutral', 'Positive']"
   ]
  },
  {
   "cell_type": "code",
   "execution_count": 38,
   "id": "c8bc83d4",
   "metadata": {},
   "outputs": [
    {
     "data": {
      "text/plain": [
       "((59196, 2), (14800, 2))"
      ]
     },
     "execution_count": 38,
     "metadata": {},
     "output_type": "execute_result"
    }
   ],
   "source": [
    "from sklearn.model_selection import train_test_split\n",
    "\n",
    "x_twitter_train, x_twitter_test, y_twitter_train, y_twitter_test = train_test_split(x_twitter, y_twitter, test_size= 0.2, random_state= 0)\n",
    "\n",
    "x_twitter_train.shape, x_twitter_test.shape"
   ]
  },
  {
   "cell_type": "code",
   "execution_count": 39,
   "id": "5ae480ec",
   "metadata": {},
   "outputs": [],
   "source": [
    "import pickle\n",
    "with open('twitter.pkl', mode= 'wb') as f:\n",
    "    pickle.dump([x_twitter_train, y_twitter_train, x_twitter_test, y_twitter_test], f)"
   ]
  },
  {
   "cell_type": "markdown",
   "id": "8fdc0ce1",
   "metadata": {},
   "source": [
    "#Naive Bayes"
   ]
  },
  {
   "cell_type": "code",
   "execution_count": 42,
   "id": "fbc18ede",
   "metadata": {},
   "outputs": [
    {
     "data": {
      "text/plain": [
       "array([1, 1, 3, ..., 3, 1, 1], shape=(14800,))"
      ]
     },
     "execution_count": 42,
     "metadata": {},
     "output_type": "execute_result"
    }
   ],
   "source": [
    "from sklearn.naive_bayes import GaussianNB\n",
    "import pickle\n",
    "with open('twitter.pkl', 'rb') as f:\n",
    "    x_twitter_train, y_twitter_train, x_twitter_test, y_twitter_test = pickle.load(f)\n",
    "\n",
    "naive_twitter = GaussianNB()\n",
    "naive_twitter.fit(x_twitter_train, y_twitter_train)\n",
    "previsoes = naive_twitter.predict(x_twitter_test)\n",
    "previsoes"
   ]
  },
  {
   "cell_type": "code",
   "execution_count": 43,
   "id": "2c9fb057",
   "metadata": {},
   "outputs": [
    {
     "data": {
      "text/plain": [
       "array([1, 1, 2, ..., 1, 0, 1], shape=(14800,))"
      ]
     },
     "execution_count": 43,
     "metadata": {},
     "output_type": "execute_result"
    }
   ],
   "source": [
    "y_twitter_test"
   ]
  },
  {
   "cell_type": "code",
   "execution_count": 44,
   "id": "cb69a8b8",
   "metadata": {},
   "outputs": [
    {
     "data": {
      "text/plain": [
       "0.3339189189189189"
      ]
     },
     "execution_count": 44,
     "metadata": {},
     "output_type": "execute_result"
    }
   ],
   "source": [
    "from sklearn.metrics import accuracy_score, classification_report\n",
    "accuracy_score(y_twitter_test, previsoes)"
   ]
  },
  {
   "cell_type": "code",
   "execution_count": 45,
   "id": "1714d997",
   "metadata": {},
   "outputs": [
    {
     "data": {
      "text/plain": [
       "0.3339189189189189"
      ]
     },
     "execution_count": 45,
     "metadata": {},
     "output_type": "execute_result"
    },
    {
     "data": {
      "image/png": "[encoded data removed]",
      "text/plain": [
       "<Figure size 400x400 with 1 Axes>"
      ]
     },
     "metadata": {},
     "output_type": "display_data"
    }
   ],
   "source": [
    "from yellowbrick.classifier import ConfusionMatrix\n",
    "plt.figure(figsize=(4,4))\n",
    "cm = ConfusionMatrix(naive_twitter)\n",
    "cm.fit(x_twitter_train, y_twitter_train)\n",
    "cm.score(x_twitter_test, y_twitter_test)"
   ]
  },
  {
   "cell_type": "code",
   "execution_count": 46,
   "id": "a9699143",
   "metadata": {},
   "outputs": [
    {
     "name": "stdout",
     "output_type": "stream",
     "text": [
      "              precision    recall  f1-score   support\n",
      "\n",
      "           0       0.00      0.00      0.00      2541\n",
      "           1       0.34      0.58      0.43      4445\n",
      "           2       0.37      0.05      0.09      3607\n",
      "           3       0.32      0.52      0.40      4207\n",
      "\n",
      "    accuracy                           0.33     14800\n",
      "   macro avg       0.26      0.29      0.23     14800\n",
      "weighted avg       0.28      0.33      0.26     14800\n",
      "\n"
     ]
    },
    {
     "name": "stderr",
     "output_type": "stream",
     "text": [
      "c:\\Users\\MIT1CT\\AppData\\Local\\Python\\pythoncore-3.14-64\\Lib\\site-packages\\sklearn\\metrics\\_classification.py:1731: UndefinedMetricWarning:\n",
      "\n",
      "Precision is ill-defined and being set to 0.0 in labels with no predicted samples. Use `zero_division` parameter to control this behavior.\n",
      "\n",
      "c:\\Users\\MIT1CT\\AppData\\Local\\Python\\pythoncore-3.14-64\\Lib\\site-packages\\sklearn\\metrics\\_classification.py:1731: UndefinedMetricWarning:\n",
      "\n",
      "Precision is ill-defined and being set to 0.0 in labels with no predicted samples. Use `zero_division` parameter to control this behavior.\n",
      "\n",
      "c:\\Users\\MIT1CT\\AppData\\Local\\Python\\pythoncore-3.14-64\\Lib\\site-packages\\sklearn\\metrics\\_classification.py:1731: UndefinedMetricWarning:\n",
      "\n",
      "Precision is ill-defined and being set to 0.0 in labels with no predicted samples. Use `zero_division` parameter to control this behavior.\n",
      "\n"
     ]
    }
   ],
   "source": [
    "print(classification_report(y_twitter_test, previsoes))"
   ]
  }
 ],
 "metadata": {
  "kernelspec": {
   "display_name": "Python 3",
   "language": "python",
   "name": "python3"
  },
  "language_info": {
   "codemirror_mode": {
    "name": "ipython",
    "version": 3
   },
   "file_extension": ".py",
   "mimetype": "text/x-python",
   "name": "python",
   "nbconvert_exporter": "python",
   "pygments_lexer": "ipython3",
   "version": "3.14.0"
  }
 },
 "nbformat": 4,
 "nbformat_minor": 5
}
